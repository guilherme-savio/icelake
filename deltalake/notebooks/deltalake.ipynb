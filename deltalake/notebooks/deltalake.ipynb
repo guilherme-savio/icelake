{
 "cells": [
  {
   "cell_type": "markdown",
   "metadata": {},
   "source": [
    "Realizando importações necessárias para a implementação do Spark + Delta Lake"
   ]
  },
  {
   "cell_type": "code",
   "execution_count": 9,
   "metadata": {},
   "outputs": [],
   "source": [
    "import pyspark\n",
    "import os\n",
    "from delta import *\n",
    "from pyspark.sql.types import *\n",
    "from delta.tables import *\n",
    "from pyspark.sql.functions import *"
   ]
  },
  {
   "cell_type": "markdown",
   "metadata": {},
   "source": [
    "Criando uma sessão do Spark com Delta"
   ]
  },
  {
   "cell_type": "code",
   "execution_count": 10,
   "metadata": {},
   "outputs": [],
   "source": [
    "builder = pyspark.sql.SparkSession.builder.appName(\"DeltaLake\") \\\n",
    "    .config(\"spark.sql.extensions\", \"io.delta.sql.DeltaSparkSessionExtension\") \\\n",
    "    .config(\"spark.sql.catalog.spark_catalog\", \"org.apache.spark.sql.delta.catalog.DeltaCatalog\")"
   ]
  },
  {
   "cell_type": "markdown",
   "metadata": {},
   "source": [
    "Criando um contexto no Spark"
   ]
  },
  {
   "cell_type": "code",
   "execution_count": 11,
   "metadata": {},
   "outputs": [],
   "source": [
    "spark = configure_spark_with_delta_pip(builder).getOrCreate()\n",
    "spark.sparkContext.setLogLevel(\"ERROR\")"
   ]
  },
  {
   "cell_type": "markdown",
   "metadata": {},
   "source": [
    "Criando a tabela \"climate-change\" no formato delta"
   ]
  },
  {
   "cell_type": "code",
   "execution_count": 16,
   "metadata": {},
   "outputs": [
    {
     "name": "stdout",
     "output_type": "stream",
     "text": [
      "Iniciando criação da tabela...\n"
     ]
    },
    {
     "name": "stderr",
     "output_type": "stream",
     "text": [
      "                                                                                \r"
     ]
    }
   ],
   "source": [
    "print(\"Iniciando criação da tabela...\")\n",
    "\n",
    "root = os.path.dirname(os.getcwd())\n",
    "\n",
    "climate_change_df = spark.read.parquet(\"{0}/datasource/climate_change.parquet\".format(root))\n",
    "climate_change_df.write.mode(saveMode=\"overwrite\").save(path=\"data/climate_change\", format=\"delta\")"
   ]
  },
  {
   "cell_type": "markdown",
   "metadata": {},
   "source": [
    "Lendo informações da tabela criada"
   ]
  },
  {
   "cell_type": "code",
   "execution_count": null,
   "metadata": {},
   "outputs": [],
   "source": [
    "cc_df = spark.read.load(\"data/climate_change\", format=\"delta\")\n",
    "\n",
    "\n",
    "cc_df.filter((cc_df[\"City\"] == \"Porto Alegre\") & (cc_df[\"Country\"] == \"Brazil\")).show(5)"
   ]
  },
  {
   "cell_type": "markdown",
   "metadata": {},
   "source": [
    "Update na tabela"
   ]
  },
  {
   "cell_type": "code",
   "execution_count": null,
   "metadata": {},
   "outputs": [],
   "source": [
    "cc_table = DeltaTable.forPath(spark, \"data/climate_change\")\n",
    "\n",
    "cc_table.update(\n",
    "    condition=expr(\"City == 'Porto Alegre'\"),\n",
    "    set={\"Country\": lit(\"Exemplo Update\")})\n",
    "\n",
    "cc_df = cc_table.toDF()\n",
    "cc_df.filter(cc_df[\"City\"] == \"Porto Alegre\").show(5)"
   ]
  },
  {
   "cell_type": "markdown",
   "metadata": {},
   "source": [
    "Delete na tabela"
   ]
  },
  {
   "cell_type": "code",
   "execution_count": null,
   "metadata": {},
   "outputs": [],
   "source": [
    "cc_table = DeltaTable.forPath(spark, \"data/climate_change\")\n",
    "\n",
    "cc_table.delete(expr(\"City == 'Porto Alegre'\"))\n",
    "\n",
    "cc_df = cc_table.toDF()\n",
    "cc_df.filter(cc_df[\"City\"] == \"Porto Alegre\").show(5)"
   ]
  },
  {
   "cell_type": "markdown",
   "metadata": {},
   "source": [
    "Lendo informações antigas da tabela"
   ]
  },
  {
   "cell_type": "code",
   "execution_count": 30,
   "metadata": {},
   "outputs": [
    {
     "name": "stdout",
     "output_type": "stream",
     "text": [
      "Tabela anterior a atualização\n",
      "+----------+------------------+-----------------------------+------------+-------+--------+---------+\n",
      "|        dt|AverageTemperature|AverageTemperatureUncertainty|        City|Country|Latitude|Longitude|\n",
      "+----------+------------------+-----------------------------+------------+-------+--------+---------+\n",
      "|1832-01-01|            23.173|                        1.692|Porto Alegre| Brazil|  29.74S|   51.69W|\n",
      "|1832-02-01|             22.93|                        2.661|Porto Alegre| Brazil|  29.74S|   51.69W|\n",
      "|1832-03-01|            21.281|                        1.826|Porto Alegre| Brazil|  29.74S|   51.69W|\n",
      "|1832-04-01|            17.697|                        2.482|Porto Alegre| Brazil|  29.74S|   51.69W|\n",
      "|1832-05-01|            14.214|                        2.263|Porto Alegre| Brazil|  29.74S|   51.69W|\n",
      "+----------+------------------+-----------------------------+------------+-------+--------+---------+\n",
      "only showing top 5 rows\n",
      "\n",
      "\n",
      "\n",
      "\n",
      "\n",
      "Tabela após a atualização e anterior ao delete\n"
     ]
    },
    {
     "name": "stderr",
     "output_type": "stream",
     "text": [
      "                                                                                \r"
     ]
    },
    {
     "name": "stdout",
     "output_type": "stream",
     "text": [
      "+----------+------------------+-----------------------------+------------+--------------+--------+---------+\n",
      "|        dt|AverageTemperature|AverageTemperatureUncertainty|        City|       Country|Latitude|Longitude|\n",
      "+----------+------------------+-----------------------------+------------+--------------+--------+---------+\n",
      "|1832-01-01|            23.173|                        1.692|Porto Alegre|Exemplo Update|  29.74S|   51.69W|\n",
      "|1832-02-01|             22.93|                        2.661|Porto Alegre|Exemplo Update|  29.74S|   51.69W|\n",
      "|1832-03-01|            21.281|                        1.826|Porto Alegre|Exemplo Update|  29.74S|   51.69W|\n",
      "|1832-04-01|            17.697|                        2.482|Porto Alegre|Exemplo Update|  29.74S|   51.69W|\n",
      "|1832-05-01|            14.214|                        2.263|Porto Alegre|Exemplo Update|  29.74S|   51.69W|\n",
      "+----------+------------------+-----------------------------+------------+--------------+--------+---------+\n",
      "only showing top 5 rows\n",
      "\n",
      "\n",
      "\n",
      "\n",
      "\n",
      "Tabela após o delete\n",
      "+---+------------------+-----------------------------+----+-------+--------+---------+\n",
      "| dt|AverageTemperature|AverageTemperatureUncertainty|City|Country|Latitude|Longitude|\n",
      "+---+------------------+-----------------------------+----+-------+--------+---------+\n",
      "+---+------------------+-----------------------------+----+-------+--------+---------+\n",
      "\n"
     ]
    }
   ],
   "source": [
    "print(\"Tabela anterior a atualização\")\n",
    "df_zero = spark.read.format(\"delta\").option(\"versionAsOf\", 0).load(\"data/climate_change\")\n",
    "df_zero.filter(df_zero[\"City\"] == \"Porto Alegre\").show(5)\n",
    "\n",
    "print('\\n')\n",
    "print('\\n')\n",
    "\n",
    "print(\"Tabela após a atualização e anterior ao delete\")\n",
    "df_um = spark.read.format(\"delta\").option(\"versionAsOf\", 1).load(\"data/climate_change\")\n",
    "df_um.filter(df_um[\"City\"] == \"Porto Alegre\").show(5)\n",
    "\n",
    "print('\\n')\n",
    "print('\\n')\n",
    "\n",
    "print(\"Tabela após o delete\")\n",
    "df_dois = spark.read.format(\"delta\").option(\"versionAsOf\", 2).load(\"data/climate_change\")\n",
    "df_dois.filter(df_dois[\"City\"] == \"Porto Alegre\").show(5)"
   ]
  }
 ],
 "metadata": {
  "kernelspec": {
   "display_name": "env",
   "language": "python",
   "name": "python3"
  },
  "language_info": {
   "codemirror_mode": {
    "name": "ipython",
    "version": 3
   },
   "file_extension": ".py",
   "mimetype": "text/x-python",
   "name": "python",
   "nbconvert_exporter": "python",
   "pygments_lexer": "ipython3",
   "version": "3.10.12"
  }
 },
 "nbformat": 4,
 "nbformat_minor": 2
}
