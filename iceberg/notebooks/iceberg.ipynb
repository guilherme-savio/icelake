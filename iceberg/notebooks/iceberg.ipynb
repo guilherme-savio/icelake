{
 "cells": [
  {
   "cell_type": "code",
   "execution_count": null,
   "metadata": {},
   "outputs": [],
   "source": [
    "Criando o banco de dados"
   ]
  },
  {
   "cell_type": "code",
   "execution_count": 1,
   "metadata": {
    "scrolled": true
   },
   "outputs": [
    {
     "data": {
      "text/plain": [
       "DataFrame[]"
      ]
     },
     "execution_count": 1,
     "metadata": {},
     "output_type": "execute_result"
    }
   ],
   "source": [
    "spark.sql(\"CREATE DATABASE IF NOT EXISTS earth\")"
   ]
  },
  {
   "cell_type": "markdown",
   "metadata": {},
   "source": [
    "Dropando tabelas que serão criadas caso elas existam"
   ]
  },
  {
   "cell_type": "code",
   "execution_count": 5,
   "metadata": {},
   "outputs": [
    {
     "data": {
      "text/html": [
       "<table>\n",
       "    <thead>\n",
       "        <tr>\n",
       "        </tr>\n",
       "    </thead>\n",
       "    <tbody>\n",
       "    </tbody>\n",
       "</table>"
      ],
      "text/plain": [
       "++\n",
       "||\n",
       "++\n",
       "++"
      ]
     },
     "execution_count": 5,
     "metadata": {},
     "output_type": "execute_result"
    }
   ],
   "source": [
    "%%sql\n",
    "DROP TABLE IF EXISTS earth.climate_change_partitioned"
   ]
  },
  {
   "cell_type": "code",
   "execution_count": 6,
   "metadata": {},
   "outputs": [
    {
     "data": {
      "text/html": [
       "<table>\n",
       "    <thead>\n",
       "        <tr>\n",
       "        </tr>\n",
       "    </thead>\n",
       "    <tbody>\n",
       "    </tbody>\n",
       "</table>"
      ],
      "text/plain": [
       "++\n",
       "||\n",
       "++\n",
       "++"
      ]
     },
     "execution_count": 6,
     "metadata": {},
     "output_type": "execute_result"
    }
   ],
   "source": [
    "%%sql\n",
    "DROP TABLE IF EXISTS earth.climate_change"
   ]
  },
  {
   "cell_type": "markdown",
   "metadata": {
    "collapsed": false,
    "jupyter": {
     "outputs_hidden": false
    }
   },
   "source": [
    "Criando tabelas no padrão Iceberg, uma normal e uma particionada"
   ]
  },
  {
   "cell_type": "code",
   "execution_count": 8,
   "metadata": {
    "collapsed": false,
    "jupyter": {
     "outputs_hidden": false
    }
   },
   "outputs": [
    {
     "name": "stderr",
     "output_type": "stream",
     "text": [
      "                                                                                \r"
     ]
    }
   ],
   "source": [
    "df = spark.read.parquet(\"/home/iceberg/data/climate_change.parquet\")\n",
    "df.writeTo(\"icelake.earth.climate_change_partitioned\").partitionedBy(\"Country\").createOrReplace()"
   ]
  },
  {
   "cell_type": "code",
   "execution_count": 9,
   "metadata": {},
   "outputs": [
    {
     "name": "stderr",
     "output_type": "stream",
     "text": [
      "                                                                                \r"
     ]
    }
   ],
   "source": [
    "temp_df = spark.read.parquet(\"/home/iceberg/data/climate_change.parquet\")\n",
    "temp_df.writeTo(\"earth.climate_change\").createOrReplace()"
   ]
  },
  {
   "cell_type": "markdown",
   "metadata": {},
   "source": [
    "Checando o país com mais resultados de medições"
   ]
  },
  {
   "cell_type": "code",
   "execution_count": 15,
   "metadata": {},
   "outputs": [
    {
     "name": "stdout",
     "output_type": "stream",
     "text": [
      "+-------------+--------+\n",
      "|      Country|count(1)|\n",
      "+-------------+--------+\n",
      "|        India| 1014906|\n",
      "|        China|  827802|\n",
      "|United States|  687289|\n",
      "|       Brazil|  475580|\n",
      "|       Russia|  461234|\n",
      "+-------------+--------+\n",
      "\n"
     ]
    }
   ],
   "source": [
    "spark.sql(\"SELECT Country, COUNT(1) FROM earth.climate_change GROUP BY 1 ORDER BY 2 DESC LIMIT 5\").show()"
   ]
  },
  {
   "cell_type": "markdown",
   "metadata": {
    "collapsed": false,
    "jupyter": {
     "outputs_hidden": false
    }
   },
   "source": [
    "Demonstração do plano de execução do ambiente particionado e normal"
   ]
  },
  {
   "cell_type": "code",
   "execution_count": 27,
   "metadata": {
    "collapsed": false,
    "jupyter": {
     "outputs_hidden": false
    }
   },
   "outputs": [
    {
     "name": "stdout",
     "output_type": "stream",
     "text": [
      "== Parsed Logical Plan ==\n",
      "'Project [*]\n",
      "+- 'Filter ('Country = India)\n",
      "   +- 'UnresolvedRelation [earth, climate_change], [], false\n",
      "\n",
      "== Analyzed Logical Plan ==\n",
      "dt: string, AverageTemperature: double, AverageTemperatureUncertainty: double, City: string, Country: string, Latitude: string, Longitude: string\n",
      "Project [dt#332, AverageTemperature#333, AverageTemperatureUncertainty#334, City#335, Country#336, Latitude#337, Longitude#338]\n",
      "+- Filter (Country#336 = India)\n",
      "   +- SubqueryAlias icelake.earth.climate_change\n",
      "      +- RelationV2[dt#332, AverageTemperature#333, AverageTemperatureUncertainty#334, City#335, Country#336, Latitude#337, Longitude#338] icelake.earth.climate_change icelake.earth.climate_change\n",
      "\n",
      "== Optimized Logical Plan ==\n",
      "Filter (isnotnull(Country#336) AND (Country#336 = India))\n",
      "+- RelationV2[dt#332, AverageTemperature#333, AverageTemperatureUncertainty#334, City#335, Country#336, Latitude#337, Longitude#338] icelake.earth.climate_change\n",
      "\n",
      "== Physical Plan ==\n",
      "*(1) Filter (isnotnull(Country#336) AND (Country#336 = India))\n",
      "+- *(1) ColumnarToRow\n",
      "   +- BatchScan icelake.earth.climate_change[dt#332, AverageTemperature#333, AverageTemperatureUncertainty#334, City#335, Country#336, Latitude#337, Longitude#338] icelake.earth.climate_change (branch=null) [filters=Country IS NOT NULL, Country = 'India', groupedBy=] RuntimeFilters: []\n",
      "\n"
     ]
    }
   ],
   "source": [
    "nao_part = spark.sql(\"SELECT * FROM earth.climate_change WHERE Country = 'India' \") #Tabela Não Particionada\n",
    "nao_part.explain(True)"
   ]
  },
  {
   "cell_type": "code",
   "execution_count": 30,
   "metadata": {},
   "outputs": [
    {
     "name": "stdout",
     "output_type": "stream",
     "text": [
      "== Parsed Logical Plan ==\n",
      "'Project [*]\n",
      "+- 'Filter ('Country = India)\n",
      "   +- 'UnresolvedRelation [earth, climate_change_partitioned], [], false\n",
      "\n",
      "== Analyzed Logical Plan ==\n",
      "dt: string, AverageTemperature: double, AverageTemperatureUncertainty: double, City: string, Country: string, Latitude: string, Longitude: string\n",
      "Project [dt#384, AverageTemperature#385, AverageTemperatureUncertainty#386, City#387, Country#388, Latitude#389, Longitude#390]\n",
      "+- Filter (Country#388 = India)\n",
      "   +- SubqueryAlias icelake.earth.climate_change_partitioned\n",
      "      +- RelationV2[dt#384, AverageTemperature#385, AverageTemperatureUncertainty#386, City#387, Country#388, Latitude#389, Longitude#390] icelake.earth.climate_change_partitioned icelake.earth.climate_change_partitioned\n",
      "\n",
      "== Optimized Logical Plan ==\n",
      "RelationV2[dt#384, AverageTemperature#385, AverageTemperatureUncertainty#386, City#387, Country#388, Latitude#389, Longitude#390] icelake.earth.climate_change_partitioned\n",
      "\n",
      "== Physical Plan ==\n",
      "*(1) ColumnarToRow\n",
      "+- BatchScan icelake.earth.climate_change_partitioned[dt#384, AverageTemperature#385, AverageTemperatureUncertainty#386, City#387, Country#388, Latitude#389, Longitude#390] icelake.earth.climate_change_partitioned (branch=null) [filters=Country IS NOT NULL, Country = 'India', groupedBy=] RuntimeFilters: []\n",
      "\n"
     ]
    }
   ],
   "source": [
    "part = spark.sql(\"SELECT * FROM earth.climate_change_partitioned WHERE Country = 'India'\") #Tabela Particionada\n",
    "part.explain(True)"
   ]
  },
  {
   "cell_type": "code",
   "execution_count": null,
   "metadata": {},
   "outputs": [],
   "source": []
  }
 ],
 "metadata": {
  "kernelspec": {
   "display_name": "Python 3 (ipykernel)",
   "language": "python",
   "name": "python3"
  },
  "language_info": {
   "codemirror_mode": {
    "name": "ipython",
    "version": 3
   },
   "file_extension": ".py",
   "mimetype": "text/x-python",
   "name": "python",
   "nbconvert_exporter": "python",
   "pygments_lexer": "ipython3",
   "version": "3.9.19"
  }
 },
 "nbformat": 4,
 "nbformat_minor": 4
}
