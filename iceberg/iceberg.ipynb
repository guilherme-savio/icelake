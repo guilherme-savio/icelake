{
 "cells": [
  {
   "cell_type": "markdown",
   "source": [
    "Realizando importações necessárias para a implementação do Iceberg"
   ],
   "metadata": {
    "collapsed": false
   }
  },
  {
   "cell_type": "code",
   "execution_count": null,
   "outputs": [],
   "source": [
    "from pyspark import SparkConf\n",
    "from pyspark.sql import SparkSession, DataFrame\n",
    "\n",
    "import os\n",
    "import pyspark.sql.functions as F"
   ],
   "metadata": {
    "collapsed": false
   }
  },
  {
   "cell_type": "markdown",
   "source": [
    "Configurando o spark para o Iceberg"
   ],
   "metadata": {
    "collapsed": false
   }
  },
  {
   "cell_type": "code",
   "execution_count": 7,
   "outputs": [],
   "source": [
    "conf = SparkConf() \\\n",
    "    .setAppName(\"Apache Iceberg\") \\\n",
    "    .setAll([\n",
    "        # Add Iceberg SQL extensions like UPDATE or DELETE in Spark\n",
    "        (\"spark.sql.extensions\", \"org.apache.iceberg.spark.extensions.IcebergSparkSessionExtensions\"),\n",
    "\n",
    "        # Register `my_iceberg_catalog`\n",
    "        (\"spark.sql.catalog.my_iceberg_catalog\", \"org.apache.iceberg.spark.SparkCatalog\"),\n",
    "\n",
    "        # Configure SQL connection to track tables inside `my_iceberg_catalog`\n",
    "        (\"spark.sql.catalog.my_iceberg_catalog.catalog-impl\", \"org.apache.iceberg.jdbc.JdbcCatalog\"),\n",
    "        (\"spark.sql.catalog.my_iceberg_catalog.uri\", \"jdbc:postgresql://postgres:5432/iceberg_db\"),\n",
    "        (\"spark.sql.catalog.my_iceberg_catalog.jdbc.user\", \"postgres\"),\n",
    "        (\"spark.sql.catalog.my_iceberg_catalog.jdbc.password\", \"postgres\"),\n",
    "\n",
    "        # Configure Warehouse on MinIO\n",
    "        (\"spark.sql.catalog.my_iceberg_catalog.io-impl\", \"org.apache.iceberg.aws.s3.S3FileIO\"),\n",
    "        (\"spark.sql.catalog.my_iceberg_catalog.s3.endpoint\", \"http://minio:9000\"),\n",
    "        (\"spark.sql.catalog.my_iceberg_catalog.s3.path-style-access\", \"true\"),\n",
    "        (\"spark.sql.catalog.my_iceberg_catalog.warehouse\", \"s3://warehouse\"),\n",
    "    ])\n",
    "\n",
    "spark = SparkSession.builder.config(conf=conf).getOrCreate()"
   ],
   "metadata": {
    "collapsed": false,
    "ExecuteTime": {
     "start_time": "2024-04-21T20:25:48.291237700Z"
    }
   }
  },
  {
   "cell_type": "markdown",
   "source": [
    "Criando tabela com base no parquet"
   ],
   "metadata": {
    "collapsed": false
   }
  },
  {
   "cell_type": "code",
   "execution_count": null,
   "outputs": [],
   "source": [
    "spark.sql(\"\"\"\n",
    "  CREATE TABLE IF NOT EXISTS my_iceberg_catalog.db.climate_change (\n",
    "    dt date,\n",
    "    average_temperature numeric,\n",
    "    average_temperature_uncertainty numeric,\n",
    "    city varchar(255),\n",
    "    country varchar(255),\n",
    "    latitude varchar(255),\n",
    "    longitude varchar(255)\n",
    "  ) USING iceberg PARTITIONED BY (dt, country)\n",
    "\"\"\")"
   ],
   "metadata": {
    "collapsed": false
   }
  },
  {
   "cell_type": "markdown",
   "source": [
    "Lendo o dataset"
   ],
   "metadata": {
    "collapsed": false
   }
  },
  {
   "cell_type": "code",
   "execution_count": null,
   "outputs": [],
   "source": [
    "root = os.path.dirname(os.getcwd())\n",
    "path = os.path.join(root, \"datasource\", \"climate_change.parquet\")\n",
    "\n",
    "climates: DataFrame = spark.read \\\n",
    "  .option(\"header\", \"true\") \\\n",
    "  .option(\"inferSchema\", \"true\") \\\n",
    "  .csv(path)\n",
    "\n",
    "climates \\\n",
    "  .withColumn(\"date\", F.to_date(F.col(\"date\"))) \\\n",
    "  .writeTo(\"my_iceberg_catalog.db.climate_change\") \\\n",
    "  .append()"
   ],
   "metadata": {
    "collapsed": false
   }
  },
  {
   "cell_type": "markdown",
   "source": [
    "Exibindo resultados"
   ],
   "metadata": {
    "collapsed": false
   }
  },
  {
   "cell_type": "code",
   "execution_count": null,
   "outputs": [],
   "source": [
    "climates = spark.table(\"my_iceberg_catalog.db.climate_change\")\n",
    "climates.orderBy(\"date\").show(3)"
   ],
   "metadata": {
    "collapsed": false
   }
  }
 ],
 "metadata": {
  "kernelspec": {
   "display_name": "Python 3",
   "language": "python",
   "name": "python3"
  },
  "language_info": {
   "name": "python",
   "version": "3.10.11"
  }
 },
 "nbformat": 4,
 "nbformat_minor": 2
}
