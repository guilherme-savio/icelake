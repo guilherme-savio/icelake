{
 "cells": [
  {
   "cell_type": "markdown",
   "metadata": {},
   "source": [
    "Realizando importações necessárias para a implementação do Iceberg"
   ]
  },
  {
   "cell_type": "code",
   "execution_count": null,
   "metadata": {},
   "outputs": [
    {
     "ename": "",
     "evalue": "",
     "output_type": "error",
     "traceback": [
      "\u001b[1;31mRunning cells with 'Python 3.10.11' requires the ipykernel package.\n",
      "\u001b[1;31mRun the following command to install 'ipykernel' into the Python environment. \n",
      "\u001b[1;31mCommand: 'c:/Users/Higor/AppData/Local/Microsoft/WindowsApps/python3.10.exe -m pip install ipykernel -U --user --force-reinstall'"
     ]
    }
   ],
   "source": [
    "from iceberg.api import Schema\n",
    "from iceberg.api.types import Types\n",
    "from iceberg.hive import HiveCatalog\n",
    "from iceberg import FileFormat"
   ]
  },
  {
   "cell_type": "markdown",
   "metadata": {},
   "source": [
    "Criando a tabela Iceberg"
   ]
  },
  {
   "cell_type": "code",
   "execution_count": null,
   "metadata": {},
   "outputs": [],
   "source": [
    "schema = Schema([\n",
    "    Types.NestedField.required(1, \"dt\", Types.DateType.get()),\n",
    "    Types.NestedField.required(2, \"AverageTemperature\", Types.DoubleType.get()),\n",
    "    Types.NestedField.required(3, \"AverageTemperatureUncertainty\", Types.DoubleType.get()),\n",
    "    Types.NestedField.required(4, \"City\", Types.StringType.get()),\n",
    "    Types.NestedField.required(5, \"Country\", Types.StringType.get()),\n",
    "    Types.NestedField.required(6, \"Latitude\", Types.StringType.get()),\n",
    "    Types.NestedField.required(7, \"Longitude\", Types.StringType.get())\n",
    "])\n",
    "\n",
    "catalog = HiveCatalog.builder().uri(\"hive://<sua-uri>\").build()\n",
    "\n",
    "table = catalog.create_table(schema).location(\"s3://<seu-bucket>/<seu-caminho>\").format(FileFormat.PARQUET).build()\n",
    "\n",
    "data = [\n",
    "    {\n",
    "        \"dt\": \"2024-04-21\", \n",
    "        \"AverageTemperature\": 10, \n",
    "        \"AverageTemperatureUncertainty\": 10,\n",
    "        \"City\": \"Porto Alegre\",\n",
    "        \"Country\": \"Brazil\",\n",
    "        \"Latitude\": \"0N\",\n",
    "        \"Longitude\": \"0E\"\n",
    "    }\n",
    "]\n",
    "\n",
    "table.new_append().append_file_data(data).commit()"
   ]
  },
  {
   "cell_type": "markdown",
   "metadata": {},
   "source": [
    "Consultando os dados da tabela"
   ]
  },
  {
   "cell_type": "code",
   "execution_count": null,
   "metadata": {},
   "outputs": [],
   "source": [
    "snapshot = table.new_transaction().current_snapshot()\n",
    "rows = table.new_scan(). \\\n",
    "use_snapshot(snapshot.id()). \\\n",
    "select(\"dt\", \"AverageTemperature\", \"City\").plan_scan().execute()\n",
    "\n",
    "for row in rows:\n",
    "    print(row)"
   ]
  }
 ],
 "metadata": {
  "kernelspec": {
   "display_name": "Python 3",
   "language": "python",
   "name": "python3"
  },
  "language_info": {
   "name": "python",
   "version": "3.10.11"
  }
 },
 "nbformat": 4,
 "nbformat_minor": 2
}
